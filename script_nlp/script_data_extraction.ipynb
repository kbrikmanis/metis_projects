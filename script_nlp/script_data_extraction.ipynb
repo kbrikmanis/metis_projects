{
 "cells": [
  {
   "cell_type": "code",
   "execution_count": 1,
   "metadata": {},
   "outputs": [],
   "source": [
    "from bs4 import BeautifulSoup\n",
    "import re\n",
    "from pprint import pprint\n",
    "from collections import Counter"
   ]
  },
  {
   "cell_type": "code",
   "execution_count": 2,
   "metadata": {},
   "outputs": [],
   "source": [
    "#open script (saved as html file)\n",
    "soup = BeautifulSoup(open('little_women.html'), 'html.parser')"
   ]
  },
  {
   "cell_type": "markdown",
   "metadata": {},
   "source": [
    "# Extract info from html version of script"
   ]
  },
  {
   "cell_type": "markdown",
   "metadata": {},
   "source": [
    "## All characters"
   ]
  },
  {
   "cell_type": "code",
   "execution_count": 3,
   "metadata": {},
   "outputs": [],
   "source": [
    "def char_names(style_att):\n",
    "    \"\"\"checks whether there is text at positions where character/speaker names appear in script\"\"\"\n",
    "    if ('left:252.00px' in style_att or \n",
    "        'left:190.00px' in style_att or\n",
    "        'left:152.00px' in style_att or\n",
    "        'left:377.00px' in style_att or\n",
    "        'left:401.00px' in style_att or\n",
    "        'left:426.00px' in style_att or\n",
    "        'left:422.00px' in style_att or\n",
    "        'left:415.00px' in style_att or \n",
    "        'left:429.00px' in style_att or \n",
    "        'left:416.00px' in style_att or \n",
    "        'left:405.00px' in style_att or \n",
    "        'left:388.00px' in style_att or \n",
    "        'left:432.00px' in style_att or \n",
    "        'left:159.00px' in style_att):\n",
    "        return True\n",
    "    else:\n",
    "        return False"
   ]
  },
  {
   "cell_type": "code",
   "execution_count": 4,
   "metadata": {},
   "outputs": [],
   "source": [
    "#creates a list of bs4 tag objects for all the divisions \n",
    "#that have style attributes that contain the positions specified by char_names()\n",
    "all_char = soup.find_all('div', \n",
    "                          {\n",
    "                           'style': lambda x: char_names(x)\n",
    "                          })\n",
    "\n",
    "#creates a set of unique characters\n",
    "#by pulling the strings (character names) from the each of the tag objects\n",
    "#then striping any leading/trailing spaces\n",
    "characters = set(map(lambda x: x.text.strip(), all_char))"
   ]
  },
  {
   "cell_type": "code",
   "execution_count": 5,
   "metadata": {},
   "outputs": [
    {
     "data": {
      "text/plain": [
       "{'AMY',\n",
       " \"AMY (CONT'D)\",\n",
       " 'AMY (O.S.)',\n",
       " 'ANNIE',\n",
       " 'ASA MELVIN',\n",
       " 'AUNT MARCH',\n",
       " \"AUNT MARCH (CONT'D)\",\n",
       " 'AUNT MARCH (O.S.)',\n",
       " 'BETH',\n",
       " \"BETH (CONT'D)\",\n",
       " 'BETH (O.S.)',\n",
       " 'DAISY AND DEMI',\n",
       " 'DASHWOOD',\n",
       " \"DASHWOOD (CONT'D)\",\n",
       " 'DASHWOOD (O.S.)',\n",
       " 'DASHWOOD GIRL #1',\n",
       " 'DASHWOOD GIRL #2',\n",
       " 'DASHWOOD GIRL #3',\n",
       " 'DOCTOR',\n",
       " \"DOCTOR (CONT'D)\",\n",
       " 'FATHER',\n",
       " 'FRED',\n",
       " 'FRIEDRICH',\n",
       " \"FRIEDRICH (CONT'D)\",\n",
       " 'FRIEDRICH (O.S.)',\n",
       " 'HANNAH',\n",
       " 'JO',\n",
       " \"JO (CONT'D)\",\n",
       " 'JO (O.S.)',\n",
       " 'JO (V.O.)',\n",
       " 'JO/AMY/MEG',\n",
       " 'JOHN',\n",
       " \"JOHN (CONT'D)\",\n",
       " 'JON',\n",
       " 'LAURIE',\n",
       " \"LAURIE (CONT'D)\",\n",
       " 'LAURIE (O.S.)',\n",
       " 'MARMEE',\n",
       " \"MARMEE (CONT'D)\",\n",
       " 'MARMEE (O.S.)',\n",
       " 'MARMEE (V.O.)',\n",
       " 'MEG',\n",
       " \"MEG (CONT'D)\",\n",
       " 'MEG (O.S.)',\n",
       " 'MEG/JO/BETH/AMY',\n",
       " 'MR. BROOKE',\n",
       " 'MR. DASHWOOD',\n",
       " \"MR. DASHWOOD (CONT'D)\",\n",
       " 'MR. DASHWOOD (V.O.)',\n",
       " 'MR. LAURENCE',\n",
       " \"MR. LAURENCE (CONT'D)\",\n",
       " 'MR.MARCH',\n",
       " 'MRS. DASHWOOD',\n",
       " 'MRS. HUMMEL',\n",
       " 'MRS. KIRKE',\n",
       " 'OLIVIA',\n",
       " 'RAILROAD PORTER',\n",
       " 'SALES CLERK',\n",
       " 'SALLIE',\n",
       " \"SALLIE (CONT'D)\",\n",
       " 'SCHOOL GIRL #1',\n",
       " 'SCHOOL GIRL #2',\n",
       " 'SCHOOL GIRL #3',\n",
       " 'SERVANT',\n",
       " 'SOLDIER',\n",
       " 'SUSAN ROBBINS',\n",
       " 'VIOLA',\n",
       " 'YOUNG MAN'}"
      ]
     },
     "execution_count": 5,
     "metadata": {},
     "output_type": "execute_result"
    }
   ],
   "source": [
    "characters"
   ]
  },
  {
   "cell_type": "markdown",
   "metadata": {},
   "source": [
    "## All dialogue"
   ]
  },
  {
   "cell_type": "code",
   "execution_count": 6,
   "metadata": {},
   "outputs": [],
   "source": [
    "def check_style(style_att):\n",
    "    \"\"\"checks whether there is text at positions where dialogue can appear in script\"\"\"\n",
    "    if ('left:252.00px' in style_att or #middle\n",
    "        'left:180.00px' in style_att or #middle\n",
    "        \n",
    "        'left:426.00px' in style_att or #right\n",
    "        'left:333.00px' in style_att or #right\n",
    "        'left:377.00px' in style_att or #right\n",
    "        'left:401.00px' in style_att or #right\n",
    "        'left:422.00px' in style_att or #right\n",
    "        'left:415.00px' in style_att or #right\n",
    "        'left:429.00px' in style_att or #right\n",
    "        'left:416.00px' in style_att or #right\n",
    "        'left:332.00px' in style_att or #right\n",
    "        'left:405.00px' in style_att or #right\n",
    "        'left:388.00px' in style_att or #right\n",
    "        'left:325.00px' in style_att or #right\n",
    "        'left:367.00px' in style_att or #right\n",
    "        'left:297.00px' in style_att or #right\n",
    "        'left:423.00px' in style_att or #right\n",
    "        \n",
    "        'left:190.00px' in style_att or #left\n",
    "        'left:201.00px' in style_att or #left\n",
    "        'left:197.00px' in style_att or #left\n",
    "        'left:204.00px' in style_att or #left\n",
    "        'left:199.00px' in style_att or #left\n",
    "        'left:152.00px' in style_att or #left\n",
    "        'left:109.00px' in style_att or #left\n",
    "        'left:178.00px' in style_att or #left\n",
    "        'left:159.00px' in style_att or #left\n",
    "        'left:192.00px' in style_att or #left\n",
    "        \n",
    "        'left:108.00px' in style_att): #locations/years\n",
    "        return True\n",
    "    else:\n",
    "        return False\n",
    "        "
   ]
  },
  {
   "cell_type": "code",
   "execution_count": 7,
   "metadata": {},
   "outputs": [],
   "source": [
    "#creates a list of bs4 tag objects for all the divisions that have style attributes \n",
    "#that contain the positions where there may be dialogue\n",
    "all_dialogue = soup.find_all('div', \n",
    "                          {\n",
    "                           'style': lambda x: check_style(x)\n",
    "                          })"
   ]
  },
  {
   "cell_type": "code",
   "execution_count": 8,
   "metadata": {},
   "outputs": [],
   "source": [
    "#scripts are formatted such that scenes have slug lines, descriptions, and \n",
    "#then a character/speaker name will have dialogue beneath that may fall across multiple lines\n",
    "#and may have a parenthetical between the speaker name\n",
    "\n",
    "#this script sometimes has characters talking over each other, \n",
    "#so two or more character name may fall on the same line\n",
    "\n",
    "#how this info is extracted is detailed by step\n",
    "\n",
    "script = []\n",
    "time_period = 'present'\n",
    "scene_index = -1\n",
    "\n",
    "for i, line in enumerate(all_dialogue): #loops through the list of dialogue containing objects\n",
    "    text =line.text.strip() #pulls the text from the object\n",
    "    left_dia = {}\n",
    "    right_dia = {}\n",
    "    middle_dia ={}\n",
    "    direction={}\n",
    "    \n",
    "    if len(all_dialogue) >i+47: #checks how close the current object is to the last object\n",
    "            #to group lines of dialogue spoken together, proceeding objects have to be checked too\n",
    "        stop = 47\n",
    "    else:\n",
    "        stop=len(all_dialogue)-i\n",
    "        \n",
    "    if text in characters: \n",
    "        flag=True #set to true if the pulled text signifies a speaker\n",
    "    else:\n",
    "        flag=False #no speaker in the pulled text\n",
    "        dual_dia=False #does not signify a line with dual dialogue either\n",
    "\n",
    "    #scene info from the slugline is interesting because the script cuts back and forth through time\n",
    "    if 'left:108.00px' in str(line): #where the slug lines are located\n",
    "        if 'INT.' in text or 'EXT.' in text: #but not all objects at this location are slug lines\n",
    "            slug_line =text\n",
    "            scene_index+=1 #numbers the scenes\n",
    "            year = re.findall(r\"(18\\d{2})\", slug_line) #pulls the year from the slug line\n",
    "            if 'FICTION' in slug_line: #pulls the timeline info from the slugline\n",
    "                time_period='fiction?'\n",
    "            elif 'THE PRESENT' in slug_line:\n",
    "                time_period='present'\n",
    "            elif 'THE PAST' in slug_line:\n",
    "                time_period='past'\n",
    "\n",
    "            if year:\n",
    "                year = int(year[0]) #cleans the year object\n",
    "            else:\n",
    "                year=0 #placeholder for checking/sorting later\n",
    "            \n",
    "    if flag: \n",
    "        if all_dialogue[i+1].text.strip() in characters: \n",
    "            dual_dia = True #two lines in a row are character names, then it's a case of dual dialogue\n",
    "            char_left=all_dialogue[i].text.strip() #object with the left speaker name\n",
    "            char_right=all_dialogue[i+1].text.strip() #object with the right speaker name\n",
    "        else:\n",
    "            dual_dia = False #not dual dialogue, clears the lists of dialogue\n",
    "            left = []\n",
    "            right = []\n",
    "            middle=[]\n",
    "            \n",
    "    if flag==True and dual_dia==False:\n",
    "        for j in range(i+1,i+stop): #checks for text in proceeding lines\n",
    "            if all_dialogue[j].text.strip() in characters:\n",
    "                flag=False \n",
    "                break #breaks at the next line containing a character name\n",
    "            else:\n",
    "                if 'left:180.00px' in str(all_dialogue[j]): \n",
    "                    #checks where dialogue falls in the script when only one character is speaking\n",
    "                    middle.append(all_dialogue[j].text.strip()) #puts the split up dialogue together in a list\n",
    "        \n",
    "        #creates dictionary the dialogue with the corresponding speaker name and scene info\n",
    "        if middle:\n",
    "            middle_dia['speaker'] =text.title() \n",
    "            middle_dia['text'] = \" \".join(middle)\n",
    "#             middle_dia['page_location']= 'middle' #sanity check\n",
    "            middle_dia['slug_line']= slug_line\n",
    "            middle_dia['year']= year\n",
    "            middle_dia['time_period']= time_period\n",
    "            middle_dia['scene_index']= scene_index\n",
    "            script.append(middle_dia) #add to list of dictionaries for dialogue occurance\n",
    "\n",
    "    if dual_dia: #in cases of dual dialogue (two character names in a row)\n",
    "        for j in range(i+2,i+stop): #check lines after those two names\n",
    "            if all_dialogue[j].text.strip() in characters: #break at next character name\n",
    "                dual_dia= False\n",
    "                flag=False\n",
    "                break\n",
    "            elif 'left:109.00px' in str(all_dialogue[j]): \n",
    "                #check location at which dialogue on the left appears and group in a list\n",
    "                left.append(all_dialogue[j].text.strip())\n",
    "            elif ('left:333.00px' in str(all_dialogue[j]) or\n",
    "                  'left:332.00px' in str(all_dialogue[j]) or\n",
    "                  'left:325.00px' in str(all_dialogue[j]) or\n",
    "                  'left:297.00px' in str(all_dialogue[j])):\n",
    "                #check location at which dialogue on the right appears and group in a list\n",
    "                right.append(all_dialogue[j].text.strip())\n",
    "         \n",
    "        #creates dictionary the dialogue with the corresponding speaker name and scene info\n",
    "        left_dia['speaker']=char_left.title()\n",
    "        left_dia['text']= \" \".join(left)\n",
    "#         left_dia['page_location']= 'left'\n",
    "        left_dia['slug_line']= slug_line\n",
    "        left_dia['year']= year\n",
    "        left_dia['time_period']= time_period\n",
    "        left_dia['scene_index']= scene_index\n",
    "\n",
    "        #creates dictionary the dialogue with the corresponding speaker name and scene info\n",
    "        right_dia['speaker']=char_right.title()\n",
    "        right_dia['text']= \" \".join(right)\n",
    "#         right_dia['page_location']= 'right'\n",
    "        right_dia['slug_line']= slug_line\n",
    "        right_dia['year']= year\n",
    "        right_dia['time_period']= time_period\n",
    "        right_dia['scene_index']= scene_index\n",
    "\n",
    "\n",
    "        script.append(left_dia) #add to list of dictionaries for dialogue occurance\n",
    "        script.append(right_dia) #add to list of dictionaries for dialogue occurance"
   ]
  },
  {
   "cell_type": "markdown",
   "metadata": {},
   "source": [
    "# Clean extracted info"
   ]
  },
  {
   "cell_type": "markdown",
   "metadata": {},
   "source": [
    "## Remove (says nothing) lines"
   ]
  },
  {
   "cell_type": "code",
   "execution_count": 9,
   "metadata": {},
   "outputs": [],
   "source": [
    "# #removing dictionaries without text (2x SPEAKER appears but the parenthetical is 'says nothing')\n",
    "script =[i for i in script if i['text']!=\"\"]"
   ]
  },
  {
   "cell_type": "markdown",
   "metadata": {},
   "source": [
    "## Add dialogue index"
   ]
  },
  {
   "cell_type": "code",
   "execution_count": 10,
   "metadata": {},
   "outputs": [],
   "source": [
    "#adding a key/value pair approximating the order of dialogue\n",
    "for i,line in enumerate(script):\n",
    "    line['dialogue_index']=i"
   ]
  },
  {
   "cell_type": "markdown",
   "metadata": {},
   "source": [
    "## Fix years"
   ]
  },
  {
   "cell_type": "code",
   "execution_count": 11,
   "metadata": {},
   "outputs": [
    {
     "data": {
      "text/plain": [
       "[{'speaker': 'Aunt March',\n",
       "  'text': 'Amy? Come here.',\n",
       "  'slug_line': 'INT. AUNT MARCH’S HOUSE. DAY.',\n",
       "  'year': 0,\n",
       "  'time_period': 'past',\n",
       "  'scene_index': 82,\n",
       "  'dialogue_index': 881},\n",
       " {'speaker': 'Amy',\n",
       "  'text': 'Yes?',\n",
       "  'slug_line': 'INT. AUNT MARCH’S HOUSE. DAY.',\n",
       "  'year': 0,\n",
       "  'time_period': 'past',\n",
       "  'scene_index': 82,\n",
       "  'dialogue_index': 882},\n",
       " {'speaker': 'Aunt March',\n",
       "  'text': 'Come, sit!',\n",
       "  'slug_line': 'INT. AUNT MARCH’S HOUSE. DAY.',\n",
       "  'year': 0,\n",
       "  'time_period': 'past',\n",
       "  'scene_index': 82,\n",
       "  'dialogue_index': 883},\n",
       " {'speaker': \"Aunt March (Cont'D)\",\n",
       "  'text': 'If you are very good, one day this ring will belong to you.',\n",
       "  'slug_line': 'INT. AUNT MARCH’S HOUSE. DAY.',\n",
       "  'year': 0,\n",
       "  'time_period': 'past',\n",
       "  'scene_index': 82,\n",
       "  'dialogue_index': 884},\n",
       " {'speaker': 'Amy',\n",
       "  'text': 'Really?',\n",
       "  'slug_line': 'INT. AUNT MARCH’S HOUSE. DAY.',\n",
       "  'year': 0,\n",
       "  'time_period': 'past',\n",
       "  'scene_index': 82,\n",
       "  'dialogue_index': 885},\n",
       " {'speaker': 'Aunt March',\n",
       "  'text': 'You just keep being a proper young lady and see if it doesn’t. You are your family’s hope now. Beth is sick, Jo is a lost cause, and I hear Meg has had her head turned by a penniless tutor. It’ll be up to you to support them all, and your indigent parents in their old age. So you must marry well and save your family.',\n",
       "  'slug_line': 'INT. AUNT MARCH’S HOUSE. DAY.',\n",
       "  'year': 0,\n",
       "  'time_period': 'past',\n",
       "  'scene_index': 82,\n",
       "  'dialogue_index': 886},\n",
       " {'speaker': \"Aunt March (Cont'D)\",\n",
       "  'text': 'That’s all I wanted to say to you. You can go finish your...little painting.',\n",
       "  'slug_line': 'INT. AUNT MARCH’S HOUSE. DAY.',\n",
       "  'year': 0,\n",
       "  'time_period': 'past',\n",
       "  'scene_index': 82,\n",
       "  'dialogue_index': 887},\n",
       " {'speaker': 'Meg',\n",
       "  'text': 'I can’t believe today is my wedding day!',\n",
       "  'slug_line': 'THE PAST. EXT./INT. MARCH HOUSE. MEG & JO’S ROOM. SPRING.',\n",
       "  'year': 0,\n",
       "  'time_period': 'past',\n",
       "  'scene_index': 95,\n",
       "  'dialogue_index': 926},\n",
       " {'speaker': 'Jo',\n",
       "  'text': 'Me neither.',\n",
       "  'slug_line': 'THE PAST. EXT./INT. MARCH HOUSE. MEG & JO’S ROOM. SPRING.',\n",
       "  'year': 0,\n",
       "  'time_period': 'past',\n",
       "  'scene_index': 95,\n",
       "  'dialogue_index': 927},\n",
       " {'speaker': 'Meg',\n",
       "  'text': 'What’s wrong?',\n",
       "  'slug_line': 'THE PAST. EXT./INT. MARCH HOUSE. MEG & JO’S ROOM. SPRING.',\n",
       "  'year': 0,\n",
       "  'time_period': 'past',\n",
       "  'scene_index': 95,\n",
       "  'dialogue_index': 928},\n",
       " {'speaker': 'Jo',\n",
       "  'text': 'Nothing.',\n",
       "  'slug_line': 'THE PAST. EXT./INT. MARCH HOUSE. MEG & JO’S ROOM. SPRING.',\n",
       "  'year': 0,\n",
       "  'time_period': 'past',\n",
       "  'scene_index': 95,\n",
       "  'dialogue_index': 929},\n",
       " {'speaker': 'Meg',\n",
       "  'text': 'Jo...',\n",
       "  'slug_line': 'THE PAST. EXT./INT. MARCH HOUSE. MEG & JO’S ROOM. SPRING.',\n",
       "  'year': 0,\n",
       "  'time_period': 'past',\n",
       "  'scene_index': 95,\n",
       "  'dialogue_index': 930},\n",
       " {'speaker': 'Jo',\n",
       "  'text': 'We can leave. We can leave right now.',\n",
       "  'slug_line': 'THE PAST. EXT./INT. MARCH HOUSE. MEG & JO’S ROOM. SPRING.',\n",
       "  'year': 0,\n",
       "  'time_period': 'past',\n",
       "  'scene_index': 95,\n",
       "  'dialogue_index': 931},\n",
       " {'speaker': 'Meg',\n",
       "  'text': 'What?',\n",
       "  'slug_line': 'THE PAST. EXT./INT. MARCH HOUSE. MEG & JO’S ROOM. SPRING.',\n",
       "  'year': 0,\n",
       "  'time_period': 'past',\n",
       "  'scene_index': 95,\n",
       "  'dialogue_index': 932},\n",
       " {'speaker': 'Jo',\n",
       "  'text': 'I can make money: I’ll sell stories, I’ll do anything - cook, clean, work in a factory. I can make a life for us.',\n",
       "  'slug_line': 'THE PAST. EXT./INT. MARCH HOUSE. MEG & JO’S ROOM. SPRING.',\n",
       "  'year': 0,\n",
       "  'time_period': 'past',\n",
       "  'scene_index': 95,\n",
       "  'dialogue_index': 933},\n",
       " {'speaker': 'Meg',\n",
       "  'text': 'But, Jo..',\n",
       "  'slug_line': 'THE PAST. EXT./INT. MARCH HOUSE. MEG & JO’S ROOM. SPRING.',\n",
       "  'year': 0,\n",
       "  'time_period': 'past',\n",
       "  'scene_index': 95,\n",
       "  'dialogue_index': 934},\n",
       " {'speaker': 'Jo',\n",
       "  'text': 'And you, you should be an actress and have a life on the stage. Let’s run away together.',\n",
       "  'slug_line': 'THE PAST. EXT./INT. MARCH HOUSE. MEG & JO’S ROOM. SPRING.',\n",
       "  'year': 0,\n",
       "  'time_period': 'past',\n",
       "  'scene_index': 95,\n",
       "  'dialogue_index': 935},\n",
       " {'speaker': 'Meg',\n",
       "  'text': 'I want to get married.',\n",
       "  'slug_line': 'THE PAST. EXT./INT. MARCH HOUSE. MEG & JO’S ROOM. SPRING.',\n",
       "  'year': 0,\n",
       "  'time_period': 'past',\n",
       "  'scene_index': 95,\n",
       "  'dialogue_index': 936},\n",
       " {'speaker': 'Jo',\n",
       "  'text': 'WHY?',\n",
       "  'slug_line': 'THE PAST. EXT./INT. MARCH HOUSE. MEG & JO’S ROOM. SPRING.',\n",
       "  'year': 0,\n",
       "  'time_period': 'past',\n",
       "  'scene_index': 95,\n",
       "  'dialogue_index': 937},\n",
       " {'speaker': 'Meg',\n",
       "  'text': 'I love him.',\n",
       "  'slug_line': 'THE PAST. EXT./INT. MARCH HOUSE. MEG & JO’S ROOM. SPRING.',\n",
       "  'year': 0,\n",
       "  'time_period': 'past',\n",
       "  'scene_index': 95,\n",
       "  'dialogue_index': 938},\n",
       " {'speaker': 'Jo',\n",
       "  'text': 'You will be bored of him in two years and we will be interesting forever.',\n",
       "  'slug_line': 'THE PAST. EXT./INT. MARCH HOUSE. MEG & JO’S ROOM. SPRING.',\n",
       "  'year': 0,\n",
       "  'time_period': 'past',\n",
       "  'scene_index': 95,\n",
       "  'dialogue_index': 939},\n",
       " {'speaker': 'Meg',\n",
       "  'text': 'Just because my dreams are not the same as yours doesn’t mean they’re unimportant.',\n",
       "  'slug_line': 'THE PAST. EXT./INT. MARCH HOUSE. MEG & JO’S ROOM. SPRING.',\n",
       "  'year': 0,\n",
       "  'time_period': 'past',\n",
       "  'scene_index': 95,\n",
       "  'dialogue_index': 940},\n",
       " {'speaker': \"Meg (Cont'D)\",\n",
       "  'text': 'I want a family and a home and I’m not scared of working and struggling, but I want to do it with John.',\n",
       "  'slug_line': 'THE PAST. EXT./INT. MARCH HOUSE. MEG & JO’S ROOM. SPRING.',\n",
       "  'year': 0,\n",
       "  'time_period': 'past',\n",
       "  'scene_index': 95,\n",
       "  'dialogue_index': 941},\n",
       " {'speaker': 'Jo',\n",
       "  'text': 'I just hate that you’re leaving me.',\n",
       "  'slug_line': 'THE PAST. EXT./INT. MARCH HOUSE. MEG & JO’S ROOM. SPRING.',\n",
       "  'year': 0,\n",
       "  'time_period': 'past',\n",
       "  'scene_index': 95,\n",
       "  'dialogue_index': 942},\n",
       " {'speaker': 'Meg',\n",
       "  'text': 'Oh, Jo, I’m not leaving you. Besides, one day it will be your turn.',\n",
       "  'slug_line': 'THE PAST. EXT./INT. MARCH HOUSE. MEG & JO’S ROOM. SPRING.',\n",
       "  'year': 0,\n",
       "  'time_period': 'past',\n",
       "  'scene_index': 95,\n",
       "  'dialogue_index': 943},\n",
       " {'speaker': 'Jo',\n",
       "  'text': 'I’d rather be a free spinster and paddle my own canoe. I can’t believe childhood is over.',\n",
       "  'slug_line': 'THE PAST. EXT./INT. MARCH HOUSE. MEG & JO’S ROOM. SPRING.',\n",
       "  'year': 0,\n",
       "  'time_period': 'past',\n",
       "  'scene_index': 95,\n",
       "  'dialogue_index': 944},\n",
       " {'speaker': 'Meg',\n",
       "  'text': 'It was going to end one way or another. And what a happy end.',\n",
       "  'slug_line': 'THE PAST. EXT./INT. MARCH HOUSE. MEG & JO’S ROOM. SPRING.',\n",
       "  'year': 0,\n",
       "  'time_period': 'past',\n",
       "  'scene_index': 95,\n",
       "  'dialogue_index': 945},\n",
       " {'speaker': 'Friedrich',\n",
       "  'text': 'Jo!',\n",
       "  'slug_line': 'THE PRESENT IS NOW THE PAST. OR MAYBE FICTION. EXT. TRAIN.',\n",
       "  'year': 0,\n",
       "  'time_period': 'fiction?',\n",
       "  'scene_index': 117,\n",
       "  'dialogue_index': 1182},\n",
       " {'speaker': \"Friedrich (Cont'D)\",\n",
       "  'text': 'Jo, why are you crying?',\n",
       "  'slug_line': 'THE PRESENT IS NOW THE PAST. OR MAYBE FICTION. EXT. TRAIN.',\n",
       "  'year': 0,\n",
       "  'time_period': 'fiction?',\n",
       "  'scene_index': 117,\n",
       "  'dialogue_index': 1183},\n",
       " {'speaker': 'Jo',\n",
       "  'text': 'Because -- because you are going away.',\n",
       "  'slug_line': 'THE PRESENT IS NOW THE PAST. OR MAYBE FICTION. EXT. TRAIN.',\n",
       "  'year': 0,\n",
       "  'time_period': 'fiction?',\n",
       "  'scene_index': 117,\n",
       "  'dialogue_index': 1184},\n",
       " {'speaker': 'Friedrich',\n",
       "  'text': 'I would never leave if you wished me to stay.',\n",
       "  'slug_line': 'THE PRESENT IS NOW THE PAST. OR MAYBE FICTION. EXT. TRAIN.',\n",
       "  'year': 0,\n",
       "  'time_period': 'fiction?',\n",
       "  'scene_index': 117,\n",
       "  'dialogue_index': 1185},\n",
       " {'speaker': 'Jo',\n",
       "  'text': 'I wish you would stay.',\n",
       "  'slug_line': 'THE PRESENT IS NOW THE PAST. OR MAYBE FICTION. EXT. TRAIN.',\n",
       "  'year': 0,\n",
       "  'time_period': 'fiction?',\n",
       "  'scene_index': 117,\n",
       "  'dialogue_index': 1186},\n",
       " {'speaker': 'Friedrich',\n",
       "  'text': 'But, but I have nothing to give you but my full heart and these empty hands.',\n",
       "  'slug_line': 'THE PRESENT IS NOW THE PAST. OR MAYBE FICTION. EXT. TRAIN.',\n",
       "  'year': 0,\n",
       "  'time_period': 'fiction?',\n",
       "  'scene_index': 117,\n",
       "  'dialogue_index': 1187},\n",
       " {'speaker': 'Jo',\n",
       "  'text': 'They aren’t empty now.',\n",
       "  'slug_line': 'THE PRESENT IS NOW THE PAST. OR MAYBE FICTION. EXT. TRAIN.',\n",
       "  'year': 0,\n",
       "  'time_period': 'fiction?',\n",
       "  'scene_index': 117,\n",
       "  'dialogue_index': 1188}]"
      ]
     },
     "execution_count": 11,
     "metadata": {},
     "output_type": "execute_result"
    }
   ],
   "source": [
    "#in the loop creating script, if there wasn't a year in the slug line,\n",
    "#the year was set to 0\n",
    "#checking what lines those were\n",
    "[i for i in script if i['year']==0]"
   ]
  },
  {
   "cell_type": "code",
   "execution_count": 12,
   "metadata": {},
   "outputs": [],
   "source": [
    "# there were only three slug_lines for which year = 0, few enough to \n",
    "# examine in the script and manually fix\n",
    "\n",
    "# 1) INT. AUNT MARCH’S HOUSE. DAY. \n",
    "# looks like 1862\n",
    "\n",
    "# 2) THE PAST. EXT./INT. MARCH HOUSE. MEG & JO’S ROOM. SPRING.\n",
    "# The slug line spilled over onto a second line of the pdf\n",
    "# so I manually append 'DAY. 1865.'' to the slug line \n",
    "# and set year = 1865\n",
    "\n",
    "# 3) THE PRESENT IS NOW THE PAST. OR MAYBE FICTION. EXT. TRAIN.\n",
    "# The slug line spilled over onto a second line of the pdf\n",
    "# so I manually append (EVENING. 1869.) to the slug line\n",
    "# and set year = 1869\n",
    "\n",
    "for i in script:\n",
    "    if (i['year']==0 and \n",
    "        i['slug_line']=='INT. AUNT MARCH’S HOUSE. DAY.'):\n",
    "        i.update({'year':1862})\n",
    "        i.update({'slug_line':'INT. AUNT MARCH’S HOUSE. DAY. 1862'})\n",
    "    elif (i['year']==0 and \n",
    "          i['slug_line']=='THE PAST. EXT./INT. MARCH HOUSE. MEG & JO’S ROOM. SPRING.'):\n",
    "        i.update({'year':1865})\n",
    "        i.update({'slug_line':'THE PAST. EXT./INT. MARCH HOUSE. MEG & JO’S ROOM. SPRING. DAY. 1865'})\n",
    "    elif (i['year']==0 and \n",
    "          i['slug_line']=='THE PRESENT IS NOW THE PAST. OR MAYBE FICTION. EXT. TRAIN.'):\n",
    "        i.update({'year':1869})\n",
    "        i.update({'slug_line':'THE PRESENT IS NOW THE PAST. OR MAYBE FICTION. EXT. TRAIN. EVENING. 1869'})"
   ]
  },
  {
   "cell_type": "markdown",
   "metadata": {},
   "source": [
    "## Add scene location"
   ]
  },
  {
   "cell_type": "code",
   "execution_count": 13,
   "metadata": {},
   "outputs": [],
   "source": [
    "def assign_place(dialogue_info):\n",
    "    for i in dialogue_info:\n",
    "        if ('TAILOR' in i['slug_line'] or\n",
    "            'SCHOOL' in i['slug_line'] or\n",
    "            'HUMMEL' in i['slug_line'] or\n",
    "            'UNION' in i['slug_line']):\n",
    "            i['place'] = \"INSIDE IN CONCORD\"\n",
    "        elif ('GARDINER' in i['slug_line'] or\n",
    "              'MOFFAT' in i['slug_line']):\n",
    "            i['place'] =\"FANCY PARTY\"\n",
    "        elif 'AUNT MARCH’S HOUSE' in i['slug_line']:\n",
    "            i['place'] =\"AUNT MARCH'S HOUSE\"\n",
    "        elif (\"MEG MARCH’S HOUSE\" in i['slug_line'] or \n",
    "              \"MEG’S HOUSE\" in i['slug_line']):\n",
    "            i['place'] =\"MEG'S HOUSE\"\n",
    "        elif ('BEACH' in i['slug_line'] or \n",
    "              'SEASHORE' in i['slug_line']):\n",
    "            i['place'] = 'BEACH'\n",
    "        elif ('CONCORD TOWN ROAD' in i['slug_line'] or\n",
    "              'RIVER'  in i['slug_line'] or \n",
    "              'WOODS' in i['slug_line'] or \n",
    "              'TRAIN' in i['slug_line']):\n",
    "            i['place'] = 'OUTSIDE IN CONCORD'\n",
    "        elif ('FRANCE' in i['slug_line'] or \n",
    "              'PARIS' in i['slug_line']):\n",
    "            i['place'] = 'PARIS'\n",
    "        elif 'PUBLISHING' in i['slug_line']:\n",
    "            i['place'] = 'PUBLISHING HOUSE'\n",
    "        elif 'BOARDING HOUSE' in i['slug_line']:\n",
    "            i['place'] = 'BOARDING HOUSE'\n",
    "        elif 'LAURENCE' in i['slug_line']:\n",
    "            i['place'] = 'LAURENCE HOUSE'\n",
    "        elif ('NEW YORK' in i['slug_line'] or \n",
    "              'GERMAN BEER HALL' in i['slug_line']):\n",
    "            i['place'] = 'NEW YORK'\n",
    "        elif ('MARCH' in i['slug_line'] or \n",
    "              'BETH' in i['slug_line'] or \n",
    "              'JO' in i['slug_line']):\n",
    "            i['place'] = 'MARCH HOUSE'\n",
    "        else:\n",
    "            i['place']='idk'\n",
    "        i['place'] = i['place'].lower()\n",
    "    return i['place']"
   ]
  },
  {
   "cell_type": "code",
   "execution_count": 14,
   "metadata": {},
   "outputs": [
    {
     "data": {
      "text/plain": [
       "'publishing house'"
      ]
     },
     "execution_count": 14,
     "metadata": {},
     "output_type": "execute_result"
    }
   ],
   "source": [
    "assign_place(script)"
   ]
  },
  {
   "cell_type": "markdown",
   "metadata": {},
   "source": [
    "## Add time of day"
   ]
  },
  {
   "cell_type": "code",
   "execution_count": 15,
   "metadata": {},
   "outputs": [],
   "source": [
    "def assign_time_of_day(dialogue_info):\n",
    "    for i in dialogue_info:\n",
    "        if ('NIGHT' in i['slug_line'] or \n",
    "            'BALLROOM' in i['slug_line']):\n",
    "            i['time_of_day']='night'\n",
    "        elif ('DAY' in i['slug_line'] or \n",
    "              'EXT. / INT. MARCH HOUSE. 1868.' in i['slug_line'] or \n",
    "              'INT. NEW YORK. PUBLISHING OFFICE. 1868.' in i['slug_line'] or\n",
    "              'AUNT' in i['slug_line']):\n",
    "            i['time_of_day']='day'\n",
    "        elif 'AFTERNOON' in i['slug_line'] or 'AFTEROON' in i['slug_line']:\n",
    "            i['time_of_day']='day'#switched to day for now\n",
    "        elif ('EVENING' in i['slug_line'] or \n",
    "              'JO & MEG’S ROOM. 1861.'in i['slug_line']):\n",
    "            i['time_of_day']='night'#switched to night\n",
    "        elif ('MORNING' in i['slug_line'] or \n",
    "              'MARCH HOUSE' in i['slug_line']):\n",
    "            i['time_of_day']='day'#switched to day for now\n",
    "        else:\n",
    "            i['time_of_day']='unknown'\n",
    "    return i['time_of_day']"
   ]
  },
  {
   "cell_type": "code",
   "execution_count": 16,
   "metadata": {},
   "outputs": [
    {
     "data": {
      "text/plain": [
       "'day'"
      ]
     },
     "execution_count": 16,
     "metadata": {},
     "output_type": "execute_result"
    }
   ],
   "source": [
    "assign_time_of_day(script)"
   ]
  },
  {
   "cell_type": "markdown",
   "metadata": {},
   "source": [
    "## Clean speakers (inconsistent naming and parentheticals)"
   ]
  },
  {
   "cell_type": "code",
   "execution_count": 17,
   "metadata": {},
   "outputs": [],
   "source": [
    "def clean_speakers(dialogue_info):\n",
    "    for i in dialogue_info:\n",
    "\n",
    "    #Marmee (V.O)= reading a letter from Mr. March\n",
    "    #JO (V.O) 1st reading a play, 2nd/3rd reading a letter to Laurie\n",
    "    #Mr. Dashwood (V.O.)- he reads his letter to JO\n",
    "\n",
    "        # clean speaker names that had\n",
    "        #(CONT'D) or (V.O.) or (O.S)\n",
    "        i['speaker'] = re.sub(r'( \\(.*\\))', '', i['speaker'])\n",
    "        #clean speakers that were inconsistently referred to in script\n",
    "        if i['speaker']=='Dashwood':\n",
    "            i['speaker']='Mr. Dashwood'\n",
    "        elif i['speaker']=='Mr.March' or i['speaker']=='Father':\n",
    "            i['speaker']='Mr. March'\n",
    "        elif i['speaker']=='Jon':\n",
    "            i['speaker']='Jo'\n",
    "        elif i['speaker']=='Mr. Brooke' or i['speaker']=='John':\n",
    "            i['speaker']='John Brooke'"
   ]
  },
  {
   "cell_type": "code",
   "execution_count": 18,
   "metadata": {},
   "outputs": [],
   "source": [
    "clean_speakers(script)"
   ]
  },
  {
   "cell_type": "markdown",
   "metadata": {},
   "source": [
    "# Check extracted info"
   ]
  },
  {
   "cell_type": "markdown",
   "metadata": {},
   "source": [
    "## Full script (list of dictionaries for each line of dialogue)"
   ]
  },
  {
   "cell_type": "code",
   "execution_count": 19,
   "metadata": {},
   "outputs": [
    {
     "name": "stdout",
     "output_type": "stream",
     "text": [
      "{'dialogue_index': 1218,\n",
      " 'place': 'publishing house',\n",
      " 'scene_index': 118,\n",
      " 'slug_line': 'THE PRESENT. INT. PUBLISHING HOUSE. NEW YORK CITY. DAY. 1870.',\n",
      " 'speaker': 'Jo',\n",
      " 'text': 'I’ve decided. I want to own my own book.',\n",
      " 'time_of_day': 'day',\n",
      " 'time_period': 'present',\n",
      " 'year': 1870}\n"
     ]
    }
   ],
   "source": [
    "#print script\n",
    "pprint(script[-1])"
   ]
  },
  {
   "cell_type": "code",
   "execution_count": 20,
   "metadata": {},
   "outputs": [],
   "source": [
    "#Check speaker and dialouge\n",
    "# [(i['speaker'],i['text']) for i in script]"
   ]
  },
  {
   "cell_type": "markdown",
   "metadata": {},
   "source": [
    "## Lines per speaker"
   ]
  },
  {
   "cell_type": "code",
   "execution_count": 21,
   "metadata": {},
   "outputs": [
    {
     "data": {
      "text/plain": [
       "[('Jo', 344),\n",
       " ('Amy', 193),\n",
       " ('Laurie', 153),\n",
       " ('Meg', 131),\n",
       " ('Marmee', 81),\n",
       " ('Beth', 71),\n",
       " ('Friedrich', 47),\n",
       " ('Mr. Dashwood', 40),\n",
       " ('Aunt March', 40),\n",
       " ('John Brooke', 22),\n",
       " ('Mr. Laurence', 18),\n",
       " ('Hannah', 14),\n",
       " ('Mr. March', 10),\n",
       " ('Sallie', 7),\n",
       " ('Mrs. Kirke', 6),\n",
       " ('Annie', 5),\n",
       " ('Doctor', 5),\n",
       " ('Mrs. Dashwood', 4),\n",
       " ('School Girl #1', 3),\n",
       " ('Asa Melvin', 3),\n",
       " ('School Girl #2', 2),\n",
       " ('Fred', 2),\n",
       " ('Susan Robbins', 2),\n",
       " ('Soldier', 2),\n",
       " ('Sales Clerk', 1),\n",
       " ('Daisy And Demi', 1),\n",
       " ('Olivia', 1),\n",
       " ('Viola', 1),\n",
       " ('Young Man', 1),\n",
       " ('Mrs. Hummel', 1),\n",
       " ('Meg/Jo/Beth/Amy', 1),\n",
       " ('Railroad Porter', 1),\n",
       " ('School Girl #3', 1),\n",
       " ('Servant', 1),\n",
       " ('Jo/Amy/Meg', 1),\n",
       " ('Dashwood Girl #1', 1),\n",
       " ('Dashwood Girl #2', 1),\n",
       " ('Dashwood Girl #3', 1)]"
      ]
     },
     "execution_count": 21,
     "metadata": {},
     "output_type": "execute_result"
    }
   ],
   "source": [
    "char_line_count = Counter(line['speaker'] for line in script)\n",
    "char_line_count.most_common()"
   ]
  },
  {
   "cell_type": "markdown",
   "metadata": {},
   "source": [
    "### Main characters"
   ]
  },
  {
   "cell_type": "code",
   "execution_count": 22,
   "metadata": {},
   "outputs": [],
   "source": [
    "main_characters= ['Jo', 'Amy', 'Meg','Beth',\n",
    "#                   'Laurie','Marmee',\n",
    "#                   'Aunt March','Friedrich', 'Mr. Dashwood'\n",
    "                 ]"
   ]
  },
  {
   "cell_type": "markdown",
   "metadata": {},
   "source": [
    "## Lines per scene"
   ]
  },
  {
   "cell_type": "code",
   "execution_count": 23,
   "metadata": {},
   "outputs": [
    {
     "data": {
      "text/plain": [
       "Counter({'INT. NEW YORK. PUBLISHING OFFICE. 1868.': 23,\n",
       "         'EXT./INT. BOARDING HOUSE. NYC. DAY. 1868.': 14,\n",
       "         'EXT. PARIS PROMENADE. DAY. 1868.': 34,\n",
       "         'INT. TAILOR SHOP. AFTERNOON. 1868.': 9,\n",
       "         'EXT. MEG MARCH’S HOUSE. DAY. 1868.': 2,\n",
       "         'EXT. / INT. MARCH HOUSE. 1868.': 1,\n",
       "         'INT. NEW YORK THEATRE. EVENING. 1868.': 2,\n",
       "         'INT. GERMAN BEER HALL. NIGHT. 1868.': 2,\n",
       "         'THE PAST. INT. CONCORD. MARCH HOUSE. JO & MEG’S ROOM. 1861.': 24,\n",
       "         \"INT. GARDINER'S NEW YEAR’S PARTY. HALLWAY. NIGHT. 1861.\": 3,\n",
       "         'INT. GARDINER’S NEW YEAR’S PARTY. CONCORD. NIGHT. 1861.': 25,\n",
       "         'EXT. GARDINER’S NEW YEAR’S PARTY. PORCH. NIGHT. 1861.': 1,\n",
       "         'INT. GARDINER’S NEW YEAR’S PARTY. HALLWAY. NIGHT. 1861.': 9,\n",
       "         'INT./EXT. MARCH HOUSE. NIGHT. 1861.': 19,\n",
       "         'THE PRESENT. EXT./INT. NEW YORK BOARDING HOUSE. NIGHT. 1868.': 1,\n",
       "         'INT. PARIS. BALLROOM. 1868.': 26,\n",
       "         'INT. BOARDING HOUSE DRAWING ROOM. NYC. DAY. 1868.': 38,\n",
       "         'INT. BOARDING HOUSE. DAY. 1869.': 3,\n",
       "         'THE PAST. INT. ATTIC OF THE MARCH HOUSE. MORNING. 1861.': 55,\n",
       "         'EXT./INT. CONCORD. MARCH HOUSE. CONTINUOUS. 1861.': 16,\n",
       "         'INT. LAURENCE HOUSE. FORMAL DINING ROOM. DAY. 1861.': 3,\n",
       "         'INT. HUMMEL HOUSE. DAY. 1861.': 2,\n",
       "         'INT. MARCH DINING ROOM. LATE AFTERNOON. 1861.': 34,\n",
       "         'THE PRESENT. INT. TRAIN. DAY. 1869.': 2,\n",
       "         'INT. BOARDING HOUSE. KITCHEN/LAUNDRY. NEW YORK. DAY. 1869.': 5,\n",
       "         'THE PAST. EXT. CONCORD TOWN ROAD. MORNING. JANUARY, 1862.': 18,\n",
       "         'INT. AUNT MARCH’S HOUSE. CONTINUOUS. 1862.': 25,\n",
       "         'INT. SCHOOL. THE SAME DAY. 1862.': 10,\n",
       "         'INT./EXT. MR. LAURENCE’S HOUSE. DAY. 1862.': 9,\n",
       "         'INT. LAURENCE HOUSE. LIBRARY. DAY. 1862.': 41,\n",
       "         'THE PAST. INT. MARCH ATTIC. DAY. 1862.': 22,\n",
       "         'INT. MARCH HOUSE. KITCHEN. DAY. 1869.': 19,\n",
       "         'THE PAST. INT. MARCH HOUSE. EVENING. 1862.': 22,\n",
       "         'INT. MARCH LIVING ROOM. NIGHT. 1862. CONTINUOUS': 19,\n",
       "         'INT. JO’S ROOM. EVENING. 1862.': 6,\n",
       "         'INT. MARCH HOUSE. KITCHEN. MORNING. 1862.': 7,\n",
       "         'EXT. RIVER. DAY. 1862.': 11,\n",
       "         'INT. MARCH HOUSE. AMY AND BETH’S ROOM. EVENING. 1862.': 11,\n",
       "         'THE PRESENT. INT. BETH’S ROOM. DAY. 1869.': 15,\n",
       "         'THE PAST. EXT. LAURENCE HOUSE. SPRING DAY. 1862.': 26,\n",
       "         'INT. ANNIE MOFFAT’S HOUSE. DAY. 1862.': 27,\n",
       "         'INT. MOFFAT BALLROOM. NIGHT. 1862.': 4,\n",
       "         'THE PRESENT. INT. MEG’S HOUSE. KITCHEN. NIGHT. 1869.': 13,\n",
       "         'INT. PARIS. ARTIST’S STUDIO. DAY. 1869.': 45,\n",
       "         'THE PAST. EXT. BEACH. DAY. 1862.': 5,\n",
       "         'EXT. BEACH. DAY. 1862.': 16,\n",
       "         'THE PRESENT. EXT. SEASHORE. DAY. 1869.': 32,\n",
       "         'THE PAST. EXT./INT. UNION ARMY SOLDIER’S FUND. DAY. 1862.': 14,\n",
       "         'INT. MARCH FAMILY HOME. EVENING. 1862.': 25,\n",
       "         'INT. MARCH HOUSE. UPSTAIRS HALLWAY. NIGHT. 1862.': 4,\n",
       "         'THE PRESENT. EXT. PARIS. GARDEN. DAY. 1869.': 31,\n",
       "         'THE PAST. INT. MARCH HOUSE. EARLY MORNING. 1862.': 19,\n",
       "         'EXT/INT. MARCH HOUSE. LATE AFTERNOON. 1862.': 9,\n",
       "         'EXT./INT. LAURENCE HOUSE. MR. LAURENCE’S OFFICE. DAY. 1862.': 4,\n",
       "         'INT. OUTSIDE BETH’S ROOM. DAY. 1862.': 16,\n",
       "         'THE PAST. INT. BETH’S ROOM. LATE AT NIGHT. 1862.': 3,\n",
       "         'INT. AUNT MARCH’S HOUSE. DAY. 1862': 7,\n",
       "         'THE PRESENT. INT. FRANCE. RENTED APARTMENTS. DAY. 1869.': 7,\n",
       "         'INT. MARCH HOUSE. BETH’S ROOM. DAY. 1869.': 2,\n",
       "         'EXT. MARCH HOUSE. GARDEN. DAY. 1869.': 13,\n",
       "         'THE PAST. INT. BETH’S ROOM. DAY. 1862.': 2,\n",
       "         'THE PAST. INT. BETH’S ROOM. EVENING. 1862.': 9,\n",
       "         'THE PRESENT. INT. BETH’S ROOM. NIGHT. 1869.': 2,\n",
       "         'INT. MARCH HOUSE. LIVING ROOM. AFTEROON. 1862.': 3,\n",
       "         'THE PAST. EXT./INT. MARCH HOUSE. MEG & JO’S ROOM. SPRING. DAY. 1865': 20,\n",
       "         'EXT. MARCH HOUSE. GARDEN. DAY. 1865.': 20,\n",
       "         'EXT. WOODS. DAY. CONTINUOUS. 1866.': 25,\n",
       "         'THE PRESENT. INT. MARCH HOUSE. ATTIC. DAY. 1869.': 18,\n",
       "         'EXT. PARIS. FRANCE. DAY. 1869.': 7,\n",
       "         'INT. MARCH HOUSE ATTIC. DAY. 1869.': 1,\n",
       "         'EXT. MARCH HOUSE. DAY. 1869.': 5,\n",
       "         'THE PAST. EXT. STREETS OF NEW YORK CITY. DAY. 1867.': 1,\n",
       "         'THE PRESENT. INT./EXT. MARCH HOUSE. LIVING ROOM. DAY. 1869.': 37,\n",
       "         'INT. MARCH HOUSE. JO & MEG’S ROOM/ATTIC. NIGHT/DAY. 1869.': 1,\n",
       "         'INT. AUNT MARCH’S HOUSE. DAY. 1869.': 30,\n",
       "         'INT. NEW YORK PUBLISHING OFFICE. DAY. 1869.': 1,\n",
       "         'INT. MARCH HOUSE. ATTIC./DINING ROOM. EARLY EVENING. 1869.': 9,\n",
       "         'THE PAST. EXT. BOARDING HOUSE. NEW YORK. DAY. 1867.': 21,\n",
       "         'INT. MARCH HOUSE. LIVING ROOM. DAY. 1869.': 33,\n",
       "         'INT. NEW YORK APARTMENT. NIGHT. 1869.': 11,\n",
       "         'INT/EXT. CARRIAGE./TRAIN STATION. NIGHT. 1869.': 1,\n",
       "         'INT. PUBLISHING HOUSE. NEW YORK CITY. DAY. 1870.': 15,\n",
       "         'THE PRESENT IS NOW THE PAST. OR MAYBE FICTION. EXT. TRAIN. EVENING. 1869': 7,\n",
       "         'THE PRESENT. INT. PUBLISHING HOUSE. NEW YORK CITY. DAY. 1870.': 30})"
      ]
     },
     "execution_count": 23,
     "metadata": {},
     "output_type": "execute_result"
    }
   ],
   "source": [
    "#check if the slug lines make sense\n",
    "Counter(line['slug_line'] for line in script)"
   ]
  },
  {
   "cell_type": "markdown",
   "metadata": {},
   "source": [
    "## Lines per location"
   ]
  },
  {
   "cell_type": "code",
   "execution_count": 24,
   "metadata": {
    "scrolled": true
   },
   "outputs": [
    {
     "data": {
      "text/plain": [
       "Counter({'publishing house': 69,\n",
       "         'boarding house': 82,\n",
       "         'paris': 150,\n",
       "         'inside in concord': 35,\n",
       "         \"meg's house\": 15,\n",
       "         'march house': 521,\n",
       "         'new york': 16,\n",
       "         'fancy party': 69,\n",
       "         'laurence house': 83,\n",
       "         'outside in concord': 64,\n",
       "         \"aunt march's house\": 62,\n",
       "         'beach': 53})"
      ]
     },
     "execution_count": 24,
     "metadata": {},
     "output_type": "execute_result"
    }
   ],
   "source": [
    "#check that the settings are grouped reasonably\n",
    "Counter(line['place'] for line in script)"
   ]
  },
  {
   "cell_type": "markdown",
   "metadata": {},
   "source": [
    "## Lines grouped by time"
   ]
  },
  {
   "cell_type": "code",
   "execution_count": 25,
   "metadata": {},
   "outputs": [
    {
     "data": {
      "text/plain": [
       "Counter({1868: 152,\n",
       "         1861: 191,\n",
       "         1869: 350,\n",
       "         1862: 394,\n",
       "         1865: 40,\n",
       "         1866: 25,\n",
       "         1867: 22,\n",
       "         1870: 45})"
      ]
     },
     "execution_count": 25,
     "metadata": {},
     "output_type": "execute_result"
    }
   ],
   "source": [
    "#check if the years make sense\n",
    "Counter(line['year'] for line in script)"
   ]
  },
  {
   "cell_type": "code",
   "execution_count": 26,
   "metadata": {},
   "outputs": [
    {
     "data": {
      "text/plain": [
       "Counter({'present': 480, 'past': 732, 'fiction?': 7})"
      ]
     },
     "execution_count": 26,
     "metadata": {},
     "output_type": "execute_result"
    }
   ],
   "source": [
    "#check if the time_periods make sense\n",
    "Counter(line['time_period'] for line in script)"
   ]
  },
  {
   "cell_type": "code",
   "execution_count": 27,
   "metadata": {},
   "outputs": [
    {
     "data": {
      "text/plain": [
       "Counter({'day': 960, 'night': 259})"
      ]
     },
     "execution_count": 27,
     "metadata": {},
     "output_type": "execute_result"
    }
   ],
   "source": [
    "#check time of day\n",
    "Counter(line['time_of_day'] for line in script)\n",
    "#morning, afternoon, and evening didn't have many scenes so collapsed"
   ]
  },
  {
   "cell_type": "markdown",
   "metadata": {},
   "source": [
    "# Write to json"
   ]
  },
  {
   "cell_type": "code",
   "execution_count": 28,
   "metadata": {},
   "outputs": [],
   "source": [
    "#write script (list of dictionaries) to json file\n",
    "with open('little_women.json', 'w') as f:\n",
    "    json.dump(script, f)"
   ]
  }
 ],
 "metadata": {
  "kernelspec": {
   "display_name": "Python [conda env:metis]",
   "language": "python",
   "name": "conda-env-metis-py"
  },
  "language_info": {
   "codemirror_mode": {
    "name": "ipython",
    "version": 3
   },
   "file_extension": ".py",
   "mimetype": "text/x-python",
   "name": "python",
   "nbconvert_exporter": "python",
   "pygments_lexer": "ipython3",
   "version": "3.7.4"
  },
  "toc": {
   "base_numbering": 1,
   "nav_menu": {},
   "number_sections": true,
   "sideBar": true,
   "skip_h1_title": false,
   "title_cell": "Table of Contents",
   "title_sidebar": "Contents",
   "toc_cell": false,
   "toc_position": {},
   "toc_section_display": true,
   "toc_window_display": true
  }
 },
 "nbformat": 4,
 "nbformat_minor": 2
}
