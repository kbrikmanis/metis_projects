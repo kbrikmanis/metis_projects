{
 "cells": [
  {
   "cell_type": "code",
   "execution_count": 1,
   "metadata": {},
   "outputs": [],
   "source": [
    "import pandas as pd\n",
    "import numpy as np"
   ]
  },
  {
   "cell_type": "code",
   "execution_count": 2,
   "metadata": {},
   "outputs": [],
   "source": [
    "class Match:      \n",
    "    def __init__(self, score):  \n",
    "        self.score = score\n",
    "        self.split_score = self.get_split_score(score)\n",
    "        self.num_sets = self.get_num_sets(self.split_score)\n",
    "        self.sets = []\n",
    "        for set_num in range(self.num_sets):\n",
    "            self.sets.append(\n",
    "            {'set_num': TennisSet(self.split_score[set_num], set_num+1).set_num, \n",
    "             'set_score': TennisSet(self.split_score[set_num], set_num+1).set_score,\n",
    "             'set_tiebreaker': TennisSet(self.split_score[set_num], set_num+1).tiebreaker,\n",
    "             'match_winner_games': TennisSet(self.split_score[set_num], set_num+1).w_games,\n",
    "             'match_loser_games': TennisSet(self.split_score[set_num], set_num+1).l_games,\n",
    "             'match_winner_tb': TennisSet(self.split_score[set_num], set_num+1).w_tb_pts,\n",
    "             'match_loser_tb': TennisSet(self.split_score[set_num], set_num+1).l_tb_pts,\n",
    "             'set_winner_games': TennisSet(self.split_score[set_num], set_num+1).set_w_games,\n",
    "             'set_loser_games': TennisSet(self.split_score[set_num], set_num+1).set_l_games,\n",
    "             'set_winner_tb': TennisSet(self.split_score[set_num], set_num+1).tb_winner_pts,\n",
    "             'set_loser_tb': TennisSet(self.split_score[set_num], set_num+1).tb_loser_pts\n",
    "            })\n",
    "    \n",
    "    def get_split_score(self, score):\n",
    "#         if score == \"W/O\":\n",
    "#             return 'walkover'\n",
    "#         elif 'RET' in score:\n",
    "#             return 'retirement'\n",
    "#         else:\n",
    "        split_score = score.split(' ')\n",
    "        return split_score\n",
    "        \n",
    "    def get_num_sets(self, split_score):\n",
    "#         if 'walkover' in split_score or 'retirement' in split_score:\n",
    "#             num_sets = 0\n",
    "#         else:\n",
    "        num_sets = len(split_score)\n",
    "        return num_sets\n",
    "        \n",
    "class TennisSet():\n",
    "    def __init__(self, set_score, set_num):\n",
    "        self.set_num = set_num\n",
    "        self.set_score = set_score\n",
    "        self.w_games = self.get_winner_games(self.set_score)\n",
    "        self.l_games_split = self.get_loser_games_split(set_score)\n",
    "        self.l_games = self.get_loser_games(self.l_games_split)\n",
    "        self.set_w_games = self.get_set_winner_games(self.w_games, self.l_games)\n",
    "        self.set_l_games = self.get_set_loser_games(self.l_games, self.w_games)\n",
    "        self.tiebreaker = self.get_tb_bool(self.set_score)\n",
    "        self.tb_loser_pts = self.get_tb_loser_pts(self.l_games_split)\n",
    "        self.tb_winner_pts = self.get_tb_winner_pts(self.tb_loser_pts)\n",
    "        self.l_tb_pts = self.get_match_loser_tbs(self.l_games, self.tb_loser_pts, self.tb_winner_pts)\n",
    "        self.w_tb_pts = self.get_match_winner_tbs(self.w_games, self.tb_loser_pts, self.tb_winner_pts)\n",
    "\n",
    "    def get_winner_games(self, set_score):\n",
    "        return int(set_score.split('-')[0])\n",
    "    \n",
    "    def get_loser_games_split(self, set_score):\n",
    "        l_games_split = set_score.split('-')[1]\n",
    "        return l_games_split\n",
    "\n",
    "    def get_loser_games(self, l_games_split):\n",
    "        if \"(\" in l_games_split:\n",
    "            temp = l_games_split.split(\"(\")\n",
    "            l_games = temp[0]\n",
    "        else:\n",
    "            l_games = l_games_split\n",
    "        return int(l_games) \n",
    "    \n",
    "    def get_set_winner_games(self, w_games, l_games):\n",
    "        if w_games > l_games:\n",
    "            return w_games\n",
    "        elif l_games > w_games:\n",
    "            return l_games\n",
    "        else:\n",
    "            return 'e'\n",
    "    \n",
    "    def get_set_loser_games(self, l_games, w_games):\n",
    "        if l_games > w_games:\n",
    "            return w_games\n",
    "        elif w_games > l_games:\n",
    "            return l_games\n",
    "        else:\n",
    "            return 'e'\n",
    "    \n",
    "    def get_tb_bool(self, l_games_split):\n",
    "        if \"(\" in l_games_split:\n",
    "            return True\n",
    "        else:\n",
    "            return False\n",
    "        \n",
    "    def get_tb_loser_pts(self, l_games_split):\n",
    "        if \"(\" in l_games_split:\n",
    "            tb_loser_pts  = l_games_split.split(\"(\")[1]\n",
    "            tb_loser_pts = int(tb_loser_pts.replace(\")\",\"\"))\n",
    "            return tb_loser_pts\n",
    "        else:\n",
    "            return np.nan\n",
    "        \n",
    "    def get_tb_winner_pts(self, tb_loser_pts):\n",
    "        if tb_loser_pts is not np.nan:\n",
    "            if tb_loser_pts +2 >= 7:\n",
    "                tb_winner_pts =tb_loser_pts +2\n",
    "            else:\n",
    "                tb_winner_pts = 7\n",
    "        else:\n",
    "            tb_winner_pts = np.nan\n",
    "        return tb_winner_pts\n",
    "        \n",
    "    def get_match_loser_tbs(self, l_games, tb_loser_pts, tb_winner_pts):\n",
    "        if tb_loser_pts is not np.nan:\n",
    "            if l_games == 7:\n",
    "                l_tb_pts = tb_winner_pts\n",
    "            else:\n",
    "                l_tb_pts = tb_loser_pts\n",
    "            return l_tb_pts\n",
    "        else:\n",
    "            return np.nan\n",
    "\n",
    "    def get_match_winner_tbs(self, w_games, tb_loser_pts, tb_winner_pts):\n",
    "        if tb_loser_pts is not np.nan:\n",
    "            if w_games == 7:\n",
    "                w_tb_pts = tb_winner_pts\n",
    "            else:\n",
    "                w_tb_pts = tb_loser_pts\n",
    "            return w_tb_pts\n",
    "        else:\n",
    "            return np.nan"
   ]
  },
  {
   "cell_type": "markdown",
   "metadata": {},
   "source": [
    "Example Match object containing Set objects"
   ]
  },
  {
   "cell_type": "code",
   "execution_count": 6,
   "metadata": {},
   "outputs": [],
   "source": [
    "test = '6-7(4) 6-0 7-6(10)'\n",
    "\n",
    "test_match = Match(test)"
   ]
  },
  {
   "cell_type": "code",
   "execution_count": 7,
   "metadata": {},
   "outputs": [
    {
     "data": {
      "text/plain": [
       "[{'set_num': 1,\n",
       "  'set_score': '6-7(4)',\n",
       "  'set_tiebreaker': True,\n",
       "  'match_winner_games': 6,\n",
       "  'match_loser_games': 7,\n",
       "  'match_winner_tb': 4,\n",
       "  'match_loser_tb': 7,\n",
       "  'set_winner_games': 7,\n",
       "  'set_loser_games': 6,\n",
       "  'set_winner_tb': 7,\n",
       "  'set_loser_tb': 4},\n",
       " {'set_num': 2,\n",
       "  'set_score': '6-0',\n",
       "  'set_tiebreaker': False,\n",
       "  'match_winner_games': 6,\n",
       "  'match_loser_games': 0,\n",
       "  'match_winner_tb': nan,\n",
       "  'match_loser_tb': nan,\n",
       "  'set_winner_games': 6,\n",
       "  'set_loser_games': 0,\n",
       "  'set_winner_tb': nan,\n",
       "  'set_loser_tb': nan},\n",
       " {'set_num': 3,\n",
       "  'set_score': '7-6(10)',\n",
       "  'set_tiebreaker': True,\n",
       "  'match_winner_games': 7,\n",
       "  'match_loser_games': 6,\n",
       "  'match_winner_tb': 12,\n",
       "  'match_loser_tb': 10,\n",
       "  'set_winner_games': 7,\n",
       "  'set_loser_games': 6,\n",
       "  'set_winner_tb': 12,\n",
       "  'set_loser_tb': 10}]"
      ]
     },
     "execution_count": 7,
     "metadata": {},
     "output_type": "execute_result"
    }
   ],
   "source": [
    "test_match.sets"
   ]
  },
  {
   "cell_type": "markdown",
   "metadata": {},
   "source": [
    "Let's look at some attributes from the first set"
   ]
  },
  {
   "cell_type": "code",
   "execution_count": 5,
   "metadata": {},
   "outputs": [
    {
     "data": {
      "text/plain": [
       "'6-7(4)'"
      ]
     },
     "execution_count": 5,
     "metadata": {},
     "output_type": "execute_result"
    }
   ],
   "source": [
    "test_match.sets[0]['set_score']"
   ]
  },
  {
   "cell_type": "markdown",
   "metadata": {},
   "source": [
    "This set went to a set tiebreaker \n",
    "\n",
    "The first player to win 7 points in the tiebreaker wins the set, as long as there's a 2 point differential between the players\n",
    "\n",
    "For example, if you're up 7-5, you win the set; if you're up 7-6, you have to play on"
   ]
  },
  {
   "cell_type": "code",
   "execution_count": 8,
   "metadata": {},
   "outputs": [
    {
     "data": {
      "text/plain": [
       "True"
      ]
     },
     "execution_count": 8,
     "metadata": {},
     "output_type": "execute_result"
    }
   ],
   "source": [
    "test_match.sets[0]['set_tiebreaker']"
   ]
  },
  {
   "cell_type": "markdown",
   "metadata": {},
   "source": [
    "The match winner's score is reported first for all sets regardless of if they won the set\n",
    "\n",
    "In this case the match winner lost the set (and tiebreaker)"
   ]
  },
  {
   "cell_type": "code",
   "execution_count": 7,
   "metadata": {},
   "outputs": [
    {
     "data": {
      "text/plain": [
       "6"
      ]
     },
     "execution_count": 7,
     "metadata": {},
     "output_type": "execute_result"
    }
   ],
   "source": [
    "test_match.sets[0]['match_winner_games']"
   ]
  },
  {
   "cell_type": "code",
   "execution_count": 8,
   "metadata": {},
   "outputs": [
    {
     "data": {
      "text/plain": [
       "4"
      ]
     },
     "execution_count": 8,
     "metadata": {},
     "output_type": "execute_result"
    }
   ],
   "source": [
    "test_match.sets[0]['match_winner_tb']"
   ]
  },
  {
   "cell_type": "markdown",
   "metadata": {},
   "source": [
    "There may be times you want to know info based on who won the set instead of the match"
   ]
  },
  {
   "cell_type": "code",
   "execution_count": 9,
   "metadata": {},
   "outputs": [
    {
     "data": {
      "text/plain": [
       "7"
      ]
     },
     "execution_count": 9,
     "metadata": {},
     "output_type": "execute_result"
    }
   ],
   "source": [
    "test_match.sets[0]['set_winner_games']"
   ]
  },
  {
   "cell_type": "code",
   "execution_count": 10,
   "metadata": {},
   "outputs": [
    {
     "data": {
      "text/plain": [
       "7"
      ]
     },
     "execution_count": 10,
     "metadata": {},
     "output_type": "execute_result"
    }
   ],
   "source": [
    "test_match.sets[0]['set_winner_tb']"
   ]
  }
 ],
 "metadata": {
  "kernelspec": {
   "display_name": "Python [conda env:metis]",
   "language": "python",
   "name": "conda-env-metis-py"
  },
  "language_info": {
   "codemirror_mode": {
    "name": "ipython",
    "version": 3
   },
   "file_extension": ".py",
   "mimetype": "text/x-python",
   "name": "python",
   "nbconvert_exporter": "python",
   "pygments_lexer": "ipython3",
   "version": "3.7.4"
  },
  "toc": {
   "base_numbering": 1,
   "nav_menu": {},
   "number_sections": true,
   "sideBar": true,
   "skip_h1_title": false,
   "title_cell": "Table of Contents",
   "title_sidebar": "Contents",
   "toc_cell": false,
   "toc_position": {},
   "toc_section_display": true,
   "toc_window_display": false
  }
 },
 "nbformat": 4,
 "nbformat_minor": 2
}
